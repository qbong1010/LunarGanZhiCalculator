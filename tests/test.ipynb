{
 "cells": [
  {
   "cell_type": "code",
   "execution_count": 1,
   "metadata": {},
   "outputs": [],
   "source": [
    "import requests\n",
    "from datetime import datetime\n",
    "import os\n",
    "from dotenv import load_dotenv\n",
    "import xml.etree.ElementTree as ET"
   ]
  },
  {
   "cell_type": "code",
   "execution_count": 55,
   "metadata": {},
   "outputs": [],
   "source": [
    "def get_lunar_date(solar_date, base_url, service_key):\n",
    "    # solYear, solMonth, solDay 추출\n",
    "    solYear = solar_date.year\n",
    "    solMonth = f\"{solar_date.month:02d}\"  # 두 자리로 포맷\n",
    "    solDay = f\"{solar_date.day:02d}\"      # 두 자리로 포맷\n",
    "\n",
    "    # API 요청\n",
    "    response = requests.get(f\"{base_url}?solYear={solYear}&solMonth={solMonth}&solDay={solDay}&ServiceKey={service_key}\")\n",
    "    \n",
    "    # 응답 상태 코드 체크\n",
    "    if response.status_code != 200:\n",
    "        raise Exception(f\"Error: 오류가 발생했습니다. status code {response.status_code}\")\n",
    "    \n",
    "    #디버깅용\n",
    "    print(\"Response content (decoded):\", response.content.decode('utf-8'))\n",
    "    \n",
    "    try:\n",
    "        # XML 응답을 파싱\n",
    "        root = ET.fromstring(response.content)\n",
    "    except ET.ParseError:\n",
    "        raise Exception(\"Error: XML 파싱 오류가 발생했습니다.\")\n",
    "    \n",
    "    # 헤더 파싱\n",
    "    header = {\n",
    "        \"resultCode\": root.findtext('.//header/resultCode'),\n",
    "        \"resultMsg\": root.findtext('.//header/resultMsg')\n",
    "    }\n",
    "    \n",
    "    # body의 item 정보 파싱\n",
    "    items = []\n",
    "    for item in root.findall('.//item'):\n",
    "        lun_year = item.findtext('lunYear')\n",
    "        lun_month = item.findtext('lunMonth')\n",
    "        lun_day = item.findtext('lunDay')\n",
    "        lun_iljin = item.findtext('lunIljin')\n",
    "        lun_leapmonth = item.findtext('lunLeapmonth')\n",
    "        lun_nday = item.findtext('lunNday')\n",
    "        lun_secha = item.findtext('lunSecha')\n",
    "        lun_wolgeon = item.findtext('lunWolgeon')\n",
    "        sol_year = item.findtext('solYear')\n",
    "        sol_month = item.findtext('solMonth')\n",
    "        sol_day = item.findtext('solDay')\n",
    "        sol_jd = item.findtext('solJd')\n",
    "        sol_leapyear = item.findtext('solLeapyear')\n",
    "        sol_week = item.findtext('solWeek')\n",
    "        \n",
    "        # 아이템의 모든 값을 딕셔너리로 저장\n",
    "        items.append({\n",
    "            \"lun_year\": lun_year,\n",
    "            \"lun_month\": lun_month,\n",
    "            \"lun_day\": lun_day,\n",
    "            \"lun_iljin\": lun_iljin,\n",
    "            \"lun_leapmonth\": lun_leapmonth,\n",
    "            \"lun_nday\": lun_nday,\n",
    "            \"lun_secha\": lun_secha,\n",
    "            \"lun_wolgeon\": lun_wolgeon,\n",
    "            \"sol_year\": sol_year,\n",
    "            \"sol_month\": sol_month,\n",
    "            \"sol_day\": sol_day,\n",
    "            \"sol_jd\": sol_jd,\n",
    "            \"sol_leapyear\": sol_leapyear,\n",
    "            \"sol_week\": sol_week\n",
    "        })\n",
    "\n",
    "    return {\n",
    "        \"header\": header,\n",
    "        \"items\": items,\n",
    "    }"
   ]
  },
  {
   "cell_type": "code",
   "execution_count": 34,
   "metadata": {},
   "outputs": [],
   "source": [
    "# 변수 지정\n",
    "base_url = \"http://apis.data.go.kr/B090041/openapi/service/LrsrCldInfoService/getLunCalInfo\"\n",
    "heavenly_stems = [\"갑\", \"을\", \"병\", \"정\", \"무\", \"기\", \"경\", \"신\", \"임\", \"계\"]\n",
    "earthly_branches = [\"자\", \"축\", \"인\", \"묘\", \"진\", \"사\", \"오\", \"미\", \"신\", \"유\", \"술\", \"해\"]"
   ]
  },
  {
   "cell_type": "code",
   "execution_count": 78,
   "metadata": {},
   "outputs": [
    {
     "name": "stdout",
     "output_type": "stream",
     "text": [
      "Lvn%2FX9ciaH3OcErj46QABbDpndkMA%2FBR6ZJmLMlTOO1No1vGocwgMhcp%2BVKl%2BShi8et1lD%2BVhhVAdQNi%2BtkKGw%3D%3D\n"
     ]
    }
   ],
   "source": [
    "# api_key 가져오기\n",
    "load_dotenv('../env/data.env')  # .env 파일에서 환경 변수 로드\n",
    "service_key = os.getenv('API_KEY')  # 환경 변수에서 서비스 키 가져오기\n",
    "\n",
    "print(service_key)"
   ]
  },
  {
   "cell_type": "code",
   "execution_count": 79,
   "metadata": {},
   "outputs": [
    {
     "name": "stdout",
     "output_type": "stream",
     "text": [
      "Response content (decoded): <?xml version=\"1.0\" encoding=\"UTF-8\" standalone=\"yes\"?><response><header><resultCode>00</resultCode><resultMsg>NORMAL SERVICE.</resultMsg></header><body><items><item><lunDay>16</lunDay><lunIljin>갑술(甲戌)</lunIljin><lunLeapmonth>윤</lunLeapmonth><lunMonth>08</lunMonth><lunNday>29</lunNday><lunSecha>을해(乙亥)</lunSecha><lunWolgeon></lunWolgeon><lunYear>1995</lunYear><solDay>10</solDay><solJd>2450001</solJd><solLeapyear>평</solLeapyear><solMonth>10</solMonth><solWeek>화</solWeek><solYear>1995</solYear></item></items><numOfRows>10</numOfRows><pageNo>1</pageNo><totalCount>1</totalCount></body></response>\n",
      "{'header': {'resultCode': '00', 'resultMsg': 'NORMAL SERVICE.'}, 'items': [{'lun_year': '1995', 'lun_month': '08', 'lun_day': '16', 'lun_iljin': '갑술(甲戌)', 'lun_leapmonth': '윤', 'lun_nday': '29', 'lun_secha': '을해(乙亥)', 'lun_wolgeon': '', 'sol_year': '1995', 'sol_month': '10', 'sol_day': '10', 'sol_jd': '2450001', 'sol_leapyear': '평', 'sol_week': '화'}]}\n"
     ]
    }
   ],
   "source": [
    "# 양력일자를 solYear, solMonth, solDay 형태로 입력받기\n",
    "birth_date = datetime(1995, 10, 10)  # 예: 1990년 5월 15일\n",
    "birth_hour = 14  # 예: 14시 (오후 2시)\n",
    "    \n",
    "saju = get_lunar_date(birth_date, base_url, service_key)\n",
    "\n",
    "# 결과값 확인용\n",
    "print(saju)"
   ]
  },
  {
   "cell_type": "code",
   "execution_count": null,
   "metadata": {},
   "outputs": [],
   "source": [
    "# 파싱한 데이터 표현 정리 필요"
   ]
  }
 ],
 "metadata": {
  "kernelspec": {
   "display_name": "venv",
   "language": "python",
   "name": "python3"
  },
  "language_info": {
   "codemirror_mode": {
    "name": "ipython",
    "version": 3
   },
   "file_extension": ".py",
   "mimetype": "text/x-python",
   "name": "python",
   "nbconvert_exporter": "python",
   "pygments_lexer": "ipython3",
   "version": "3.11.9"
  }
 },
 "nbformat": 4,
 "nbformat_minor": 2
}
